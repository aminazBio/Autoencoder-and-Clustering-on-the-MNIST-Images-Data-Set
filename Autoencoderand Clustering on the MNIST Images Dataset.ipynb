{
 "cells": [
  {
   "cell_type": "markdown",
   "metadata": {},
   "source": [
    "Importing pandas library"
   ]
  },
  {
   "cell_type": "code",
   "execution_count": 2,
   "metadata": {},
   "outputs": [],
   "source": [
    "import pandas as pd"
   ]
  },
  {
   "cell_type": "markdown",
   "metadata": {},
   "source": [
    "Loading the training set and test one to work with them"
   ]
  },
  {
   "cell_type": "code",
   "execution_count": 3,
   "metadata": {},
   "outputs": [],
   "source": [
    "labeled_train=pd.read_csv('labeled_train_set.csv')\n",
    "unlabeled_train=pd.read_csv('unlabeled_train_set.csv')\n",
    "\n",
    "test=pd.read_csv('test_set.csv')"
   ]
  },
  {
   "cell_type": "markdown",
   "metadata": {},
   "source": [
    "Loading the head of data to see what we have to have a challenge with"
   ]
  },
  {
   "cell_type": "code",
   "execution_count": 4,
   "metadata": {},
   "outputs": [
    {
     "name": "stdout",
     "output_type": "stream",
     "text": [
      "   label  1x1  1x2  1x3  1x4  1x5  1x6  1x7  1x8  1x9  ...  28x19  28x20  \\\n",
      "0      7    0    0    0    0    0    0    0    0    0  ...      0      0   \n",
      "1      0    0    0    0    0    0    0    0    0    0  ...      0      0   \n",
      "2      0    0    0    0    0    0    0    0    0    0  ...      0      0   \n",
      "3      3    0    0    0    0    0    0    0    0    0  ...      0      0   \n",
      "4      8    0    0    0    0    0    0    0    0    0  ...      0      0   \n",
      "\n",
      "   28x21  28x22  28x23  28x24  28x25  28x26  28x27  28x28  \n",
      "0      0      0      0      0      0      0      0      0  \n",
      "1      0      0      0      0      0      0      0      0  \n",
      "2      0      0      0      0      0      0      0      0  \n",
      "3      0      0      0      0      0      0      0      0  \n",
      "4      0      0      0      0      0      0      0      0  \n",
      "\n",
      "[5 rows x 785 columns]\n",
      "   1x1  1x2  1x3  1x4  1x5  1x6  1x7  1x8  1x9  1x10  ...  28x19  28x20  \\\n",
      "0    0    0    0    0    0    0    0    0    0     0  ...      0      0   \n",
      "1    0    0    0    0    0    0    0    0    0     0  ...      0      0   \n",
      "2    0    0    0    0    0    0    0    0    0     0  ...      0      0   \n",
      "3    0    0    0    0    0    0    0    0    0     0  ...      0      0   \n",
      "4    0    0    0    0    0    0    0    0    0     0  ...      0      0   \n",
      "\n",
      "   28x21  28x22  28x23  28x24  28x25  28x26  28x27  28x28  \n",
      "0      0      0      0      0      0      0      0      0  \n",
      "1      0      0      0      0      0      0      0      0  \n",
      "2      0      0      0      0      0      0      0      0  \n",
      "3      0      0      0      0      0      0      0      0  \n",
      "4      0      0      0      0      0      0      0      0  \n",
      "\n",
      "[5 rows x 784 columns]\n",
      "   label  1x1  1x2  1x3  1x4  1x5  1x6  1x7  1x8  1x9  ...  28x19  28x20  \\\n",
      "0      7    0    0    0    0    0    0    0    0    0  ...      0      0   \n",
      "1      2    0    0    0    0    0    0    0    0    0  ...      0      0   \n",
      "2      1    0    0    0    0    0    0    0    0    0  ...      0      0   \n",
      "3      0    0    0    0    0    0    0    0    0    0  ...      0      0   \n",
      "4      4    0    0    0    0    0    0    0    0    0  ...      0      0   \n",
      "\n",
      "   28x21  28x22  28x23  28x24  28x25  28x26  28x27  28x28  \n",
      "0      0      0      0      0      0      0      0      0  \n",
      "1      0      0      0      0      0      0      0      0  \n",
      "2      0      0      0      0      0      0      0      0  \n",
      "3      0      0      0      0      0      0      0      0  \n",
      "4      0      0      0      0      0      0      0      0  \n",
      "\n",
      "[5 rows x 785 columns]\n"
     ]
    }
   ],
   "source": [
    "print(labeled_train.head())\n",
    "print(unlabeled_train.head())\n",
    "\n",
    "print(test.head())"
   ]
  },
  {
   "cell_type": "markdown",
   "metadata": {},
   "source": [
    "Overall view on data columns to see if there is a problem or not. In other words we can say evaluating preproccessing requirement by checking availability of null or missing data and also categorial ones which Machine learning models can't work with and handle them."
   ]
  },
  {
   "cell_type": "code",
   "execution_count": 5,
   "metadata": {},
   "outputs": [
    {
     "name": "stdout",
     "output_type": "stream",
     "text": [
      "<class 'pandas.core.frame.DataFrame'>\n",
      "RangeIndex: 18000 entries, 0 to 17999\n",
      "Columns: 785 entries, label to 28x28\n",
      "dtypes: int64(785)\n",
      "memory usage: 107.8 MB\n",
      "None\n",
      "<class 'pandas.core.frame.DataFrame'>\n",
      "RangeIndex: 42000 entries, 0 to 41999\n",
      "Columns: 784 entries, 1x1 to 28x28\n",
      "dtypes: int64(784)\n",
      "memory usage: 251.2 MB\n",
      "None\n",
      "<class 'pandas.core.frame.DataFrame'>\n",
      "RangeIndex: 10000 entries, 0 to 9999\n",
      "Columns: 785 entries, label to 28x28\n",
      "dtypes: int64(785)\n",
      "memory usage: 59.9 MB\n",
      "None\n"
     ]
    }
   ],
   "source": [
    "print(labeled_train.info())\n",
    "print(unlabeled_train.info())\n",
    "\n",
    "print(test.info())"
   ]
  },
  {
   "cell_type": "markdown",
   "metadata": {},
   "source": [
    "More precise and apparent calculation and preview of the number of missing values in each column ,if it is available, by chaining of the .isnull() and .sum() methods."
   ]
  },
  {
   "cell_type": "code",
   "execution_count": 6,
   "metadata": {},
   "outputs": [
    {
     "name": "stdout",
     "output_type": "stream",
     "text": [
      "label    0\n",
      "1x1      0\n",
      "1x2      0\n",
      "1x3      0\n",
      "1x4      0\n",
      "        ..\n",
      "28x24    0\n",
      "28x25    0\n",
      "28x26    0\n",
      "28x27    0\n",
      "28x28    0\n",
      "Length: 785, dtype: int64\n",
      "1x1      0\n",
      "1x2      0\n",
      "1x3      0\n",
      "1x4      0\n",
      "1x5      0\n",
      "        ..\n",
      "28x24    0\n",
      "28x25    0\n",
      "28x26    0\n",
      "28x27    0\n",
      "28x28    0\n",
      "Length: 784, dtype: int64\n",
      "label    0\n",
      "1x1      0\n",
      "1x2      0\n",
      "1x3      0\n",
      "1x4      0\n",
      "        ..\n",
      "28x24    0\n",
      "28x25    0\n",
      "28x26    0\n",
      "28x27    0\n",
      "28x28    0\n",
      "Length: 785, dtype: int64\n"
     ]
    }
   ],
   "source": [
    "print(labeled_train.isnull().sum())\n",
    "print(unlabeled_train.isnull().sum())\n",
    "\n",
    "print(test.isnull().sum())"
   ]
  },
  {
   "cell_type": "markdown",
   "metadata": {},
   "source": [
    "Separating the labels from the training features in both labeled train set and the test file"
   ]
  },
  {
   "cell_type": "code",
   "execution_count": 7,
   "metadata": {},
   "outputs": [
    {
     "name": "stdout",
     "output_type": "stream",
     "text": [
      "       1x1  1x2  1x3  1x4  1x5  1x6  1x7  1x8  1x9  1x10  ...  28x19  28x20  \\\n",
      "0        0    0    0    0    0    0    0    0    0     0  ...      0      0   \n",
      "1        0    0    0    0    0    0    0    0    0     0  ...      0      0   \n",
      "2        0    0    0    0    0    0    0    0    0     0  ...      0      0   \n",
      "3        0    0    0    0    0    0    0    0    0     0  ...      0      0   \n",
      "4        0    0    0    0    0    0    0    0    0     0  ...      0      0   \n",
      "...    ...  ...  ...  ...  ...  ...  ...  ...  ...   ...  ...    ...    ...   \n",
      "17995    0    0    0    0    0    0    0    0    0     0  ...      0      0   \n",
      "17996    0    0    0    0    0    0    0    0    0     0  ...      0      0   \n",
      "17997    0    0    0    0    0    0    0    0    0     0  ...      0      0   \n",
      "17998    0    0    0    0    0    0    0    0    0     0  ...      0      0   \n",
      "17999    0    0    0    0    0    0    0    0    0     0  ...      0      0   \n",
      "\n",
      "       28x21  28x22  28x23  28x24  28x25  28x26  28x27  28x28  \n",
      "0          0      0      0      0      0      0      0      0  \n",
      "1          0      0      0      0      0      0      0      0  \n",
      "2          0      0      0      0      0      0      0      0  \n",
      "3          0      0      0      0      0      0      0      0  \n",
      "4          0      0      0      0      0      0      0      0  \n",
      "...      ...    ...    ...    ...    ...    ...    ...    ...  \n",
      "17995      0      0      0      0      0      0      0      0  \n",
      "17996      0      0      0      0      0      0      0      0  \n",
      "17997      0      0      0      0      0      0      0      0  \n",
      "17998      0      0      0      0      0      0      0      0  \n",
      "17999      0      0      0      0      0      0      0      0  \n",
      "\n",
      "[18000 rows x 784 columns] 0        7\n",
      "1        0\n",
      "2        0\n",
      "3        3\n",
      "4        8\n",
      "        ..\n",
      "17995    3\n",
      "17996    8\n",
      "17997    0\n",
      "17998    0\n",
      "17999    4\n",
      "Name: label, Length: 18000, dtype: int64       1x1  1x2  1x3  1x4  1x5  1x6  1x7  1x8  1x9  1x10  ...  28x19  28x20  \\\n",
      "0       0    0    0    0    0    0    0    0    0     0  ...      0      0   \n",
      "1       0    0    0    0    0    0    0    0    0     0  ...      0      0   \n",
      "2       0    0    0    0    0    0    0    0    0     0  ...      0      0   \n",
      "3       0    0    0    0    0    0    0    0    0     0  ...      0      0   \n",
      "4       0    0    0    0    0    0    0    0    0     0  ...      0      0   \n",
      "...   ...  ...  ...  ...  ...  ...  ...  ...  ...   ...  ...    ...    ...   \n",
      "9995    0    0    0    0    0    0    0    0    0     0  ...      0      0   \n",
      "9996    0    0    0    0    0    0    0    0    0     0  ...      0      0   \n",
      "9997    0    0    0    0    0    0    0    0    0     0  ...      0      0   \n",
      "9998    0    0    0    0    0    0    0    0    0     0  ...      0      0   \n",
      "9999    0    0    0    0    0    0    0    0    0     0  ...      0      0   \n",
      "\n",
      "      28x21  28x22  28x23  28x24  28x25  28x26  28x27  28x28  \n",
      "0         0      0      0      0      0      0      0      0  \n",
      "1         0      0      0      0      0      0      0      0  \n",
      "2         0      0      0      0      0      0      0      0  \n",
      "3         0      0      0      0      0      0      0      0  \n",
      "4         0      0      0      0      0      0      0      0  \n",
      "...     ...    ...    ...    ...    ...    ...    ...    ...  \n",
      "9995      0      0      0      0      0      0      0      0  \n",
      "9996      0      0      0      0      0      0      0      0  \n",
      "9997      0      0      0      0      0      0      0      0  \n",
      "9998      0      0      0      0      0      0      0      0  \n",
      "9999      0      0      0      0      0      0      0      0  \n",
      "\n",
      "[10000 rows x 784 columns] 0       7\n",
      "1       2\n",
      "2       1\n",
      "3       0\n",
      "4       4\n",
      "       ..\n",
      "9995    2\n",
      "9996    3\n",
      "9997    4\n",
      "9998    5\n",
      "9999    6\n",
      "Name: label, Length: 10000, dtype: int64\n"
     ]
    }
   ],
   "source": [
    "X_labeled_train=labeled_train.loc[:, labeled_train.columns != 'label']\n",
    "y_labeled_train=labeled_train['label']\n",
    "\n",
    "X_test=test.loc[:, test.columns != 'label']\n",
    "y_test=test['label']\n",
    "\n",
    "print(X_labeled_train, y_labeled_train, X_test, y_test)"
   ]
  },
  {
   "cell_type": "markdown",
   "metadata": {},
   "source": [
    "Scaling the data by dividing it to 255 because pixel values range from 0 to 255, so this makes it range 0 to 1."
   ]
  },
  {
   "cell_type": "code",
   "execution_count": 8,
   "metadata": {},
   "outputs": [
    {
     "name": "stdout",
     "output_type": "stream",
     "text": [
      "       1x1  1x2  1x3  1x4  1x5  1x6  1x7  1x8  1x9  1x10  ...  28x19  28x20  \\\n",
      "0      0.0  0.0  0.0  0.0  0.0  0.0  0.0  0.0  0.0   0.0  ...    0.0    0.0   \n",
      "1      0.0  0.0  0.0  0.0  0.0  0.0  0.0  0.0  0.0   0.0  ...    0.0    0.0   \n",
      "2      0.0  0.0  0.0  0.0  0.0  0.0  0.0  0.0  0.0   0.0  ...    0.0    0.0   \n",
      "3      0.0  0.0  0.0  0.0  0.0  0.0  0.0  0.0  0.0   0.0  ...    0.0    0.0   \n",
      "4      0.0  0.0  0.0  0.0  0.0  0.0  0.0  0.0  0.0   0.0  ...    0.0    0.0   \n",
      "...    ...  ...  ...  ...  ...  ...  ...  ...  ...   ...  ...    ...    ...   \n",
      "17995  0.0  0.0  0.0  0.0  0.0  0.0  0.0  0.0  0.0   0.0  ...    0.0    0.0   \n",
      "17996  0.0  0.0  0.0  0.0  0.0  0.0  0.0  0.0  0.0   0.0  ...    0.0    0.0   \n",
      "17997  0.0  0.0  0.0  0.0  0.0  0.0  0.0  0.0  0.0   0.0  ...    0.0    0.0   \n",
      "17998  0.0  0.0  0.0  0.0  0.0  0.0  0.0  0.0  0.0   0.0  ...    0.0    0.0   \n",
      "17999  0.0  0.0  0.0  0.0  0.0  0.0  0.0  0.0  0.0   0.0  ...    0.0    0.0   \n",
      "\n",
      "       28x21  28x22  28x23  28x24  28x25  28x26  28x27  28x28  \n",
      "0        0.0    0.0    0.0    0.0    0.0    0.0    0.0    0.0  \n",
      "1        0.0    0.0    0.0    0.0    0.0    0.0    0.0    0.0  \n",
      "2        0.0    0.0    0.0    0.0    0.0    0.0    0.0    0.0  \n",
      "3        0.0    0.0    0.0    0.0    0.0    0.0    0.0    0.0  \n",
      "4        0.0    0.0    0.0    0.0    0.0    0.0    0.0    0.0  \n",
      "...      ...    ...    ...    ...    ...    ...    ...    ...  \n",
      "17995    0.0    0.0    0.0    0.0    0.0    0.0    0.0    0.0  \n",
      "17996    0.0    0.0    0.0    0.0    0.0    0.0    0.0    0.0  \n",
      "17997    0.0    0.0    0.0    0.0    0.0    0.0    0.0    0.0  \n",
      "17998    0.0    0.0    0.0    0.0    0.0    0.0    0.0    0.0  \n",
      "17999    0.0    0.0    0.0    0.0    0.0    0.0    0.0    0.0  \n",
      "\n",
      "[18000 rows x 784 columns]       1x1  1x2  1x3  1x4  1x5  1x6  1x7  1x8  1x9  1x10  ...  28x19  28x20  \\\n",
      "0     0.0  0.0  0.0  0.0  0.0  0.0  0.0  0.0  0.0   0.0  ...    0.0    0.0   \n",
      "1     0.0  0.0  0.0  0.0  0.0  0.0  0.0  0.0  0.0   0.0  ...    0.0    0.0   \n",
      "2     0.0  0.0  0.0  0.0  0.0  0.0  0.0  0.0  0.0   0.0  ...    0.0    0.0   \n",
      "3     0.0  0.0  0.0  0.0  0.0  0.0  0.0  0.0  0.0   0.0  ...    0.0    0.0   \n",
      "4     0.0  0.0  0.0  0.0  0.0  0.0  0.0  0.0  0.0   0.0  ...    0.0    0.0   \n",
      "...   ...  ...  ...  ...  ...  ...  ...  ...  ...   ...  ...    ...    ...   \n",
      "9995  0.0  0.0  0.0  0.0  0.0  0.0  0.0  0.0  0.0   0.0  ...    0.0    0.0   \n",
      "9996  0.0  0.0  0.0  0.0  0.0  0.0  0.0  0.0  0.0   0.0  ...    0.0    0.0   \n",
      "9997  0.0  0.0  0.0  0.0  0.0  0.0  0.0  0.0  0.0   0.0  ...    0.0    0.0   \n",
      "9998  0.0  0.0  0.0  0.0  0.0  0.0  0.0  0.0  0.0   0.0  ...    0.0    0.0   \n",
      "9999  0.0  0.0  0.0  0.0  0.0  0.0  0.0  0.0  0.0   0.0  ...    0.0    0.0   \n",
      "\n",
      "      28x21  28x22  28x23  28x24  28x25  28x26  28x27  28x28  \n",
      "0       0.0    0.0    0.0    0.0    0.0    0.0    0.0    0.0  \n",
      "1       0.0    0.0    0.0    0.0    0.0    0.0    0.0    0.0  \n",
      "2       0.0    0.0    0.0    0.0    0.0    0.0    0.0    0.0  \n",
      "3       0.0    0.0    0.0    0.0    0.0    0.0    0.0    0.0  \n",
      "4       0.0    0.0    0.0    0.0    0.0    0.0    0.0    0.0  \n",
      "...     ...    ...    ...    ...    ...    ...    ...    ...  \n",
      "9995    0.0    0.0    0.0    0.0    0.0    0.0    0.0    0.0  \n",
      "9996    0.0    0.0    0.0    0.0    0.0    0.0    0.0    0.0  \n",
      "9997    0.0    0.0    0.0    0.0    0.0    0.0    0.0    0.0  \n",
      "9998    0.0    0.0    0.0    0.0    0.0    0.0    0.0    0.0  \n",
      "9999    0.0    0.0    0.0    0.0    0.0    0.0    0.0    0.0  \n",
      "\n",
      "[10000 rows x 784 columns]\n"
     ]
    }
   ],
   "source": [
    "X_labeled_train=X_labeled_train.astype('float32')/255\n",
    "X_test=X_test.astype('float32')/255\n",
    "\n",
    "print(X_labeled_train, X_test)"
   ]
  },
  {
   "cell_type": "markdown",
   "metadata": {},
   "source": [
    "Training an autoencoder on the labeled training set from the MNIST dataset"
   ]
  },
  {
   "cell_type": "code",
   "execution_count": 43,
   "metadata": {},
   "outputs": [
    {
     "name": "stdout",
     "output_type": "stream",
     "text": [
      "Epoch 1/40\n",
      "90/90 [==============================] - 2s 12ms/step - loss: 0.3670 - val_loss: 0.2571\n",
      "Epoch 2/40\n",
      "90/90 [==============================] - 1s 8ms/step - loss: 0.2328 - val_loss: 0.2104\n",
      "Epoch 3/40\n",
      "90/90 [==============================] - 1s 7ms/step - loss: 0.1969 - val_loss: 0.1843\n",
      "Epoch 4/40\n",
      "90/90 [==============================] - 1s 8ms/step - loss: 0.1773 - val_loss: 0.1692\n",
      "Epoch 5/40\n",
      "90/90 [==============================] - 1s 8ms/step - loss: 0.1643 - val_loss: 0.1579\n",
      "Epoch 6/40\n",
      "90/90 [==============================] - 1s 7ms/step - loss: 0.1542 - val_loss: 0.1489\n",
      "Epoch 7/40\n",
      "90/90 [==============================] - 1s 8ms/step - loss: 0.1461 - val_loss: 0.1417\n",
      "Epoch 8/40\n",
      "90/90 [==============================] - 1s 8ms/step - loss: 0.1394 - val_loss: 0.1358\n",
      "Epoch 9/40\n",
      "90/90 [==============================] - 1s 7ms/step - loss: 0.1337 - val_loss: 0.1305\n",
      "Epoch 10/40\n",
      "90/90 [==============================] - 1s 8ms/step - loss: 0.1288 - val_loss: 0.1258\n",
      "Epoch 11/40\n",
      "90/90 [==============================] - 1s 9ms/step - loss: 0.1244 - val_loss: 0.1216\n",
      "Epoch 12/40\n",
      "90/90 [==============================] - 1s 8ms/step - loss: 0.1205 - val_loss: 0.1180\n",
      "Epoch 13/40\n",
      "90/90 [==============================] - 1s 8ms/step - loss: 0.1171 - val_loss: 0.1148\n",
      "Epoch 14/40\n",
      "90/90 [==============================] - 1s 8ms/step - loss: 0.1141 - val_loss: 0.1122\n",
      "Epoch 15/40\n",
      "90/90 [==============================] - 1s 8ms/step - loss: 0.1116 - val_loss: 0.1098\n",
      "Epoch 16/40\n",
      "90/90 [==============================] - 1s 8ms/step - loss: 0.1094 - val_loss: 0.1076\n",
      "Epoch 17/40\n",
      "90/90 [==============================] - 1s 8ms/step - loss: 0.1074 - val_loss: 0.1059\n",
      "Epoch 18/40\n",
      "90/90 [==============================] - 1s 7ms/step - loss: 0.1057 - val_loss: 0.1042\n",
      "Epoch 19/40\n",
      "90/90 [==============================] - 1s 8ms/step - loss: 0.1041 - val_loss: 0.1028\n",
      "Epoch 20/40\n",
      "90/90 [==============================] - 1s 8ms/step - loss: 0.1027 - val_loss: 0.1016\n",
      "Epoch 21/40\n",
      "90/90 [==============================] - 1s 8ms/step - loss: 0.1014 - val_loss: 0.1004\n",
      "Epoch 22/40\n",
      "90/90 [==============================] - 1s 8ms/step - loss: 0.1003 - val_loss: 0.0994\n",
      "Epoch 23/40\n",
      "90/90 [==============================] - 1s 8ms/step - loss: 0.0994 - val_loss: 0.0984\n",
      "Epoch 24/40\n",
      "90/90 [==============================] - 1s 8ms/step - loss: 0.0985 - val_loss: 0.0977\n",
      "Epoch 25/40\n",
      "90/90 [==============================] - 1s 8ms/step - loss: 0.0978 - val_loss: 0.0970\n",
      "Epoch 26/40\n",
      "90/90 [==============================] - 1s 8ms/step - loss: 0.0972 - val_loss: 0.0964\n",
      "Epoch 27/40\n",
      "90/90 [==============================] - 1s 7ms/step - loss: 0.0966 - val_loss: 0.0959\n",
      "Epoch 28/40\n",
      "90/90 [==============================] - 1s 7ms/step - loss: 0.0962 - val_loss: 0.0954\n",
      "Epoch 29/40\n",
      "90/90 [==============================] - 1s 8ms/step - loss: 0.0958 - val_loss: 0.0951\n",
      "Epoch 30/40\n",
      "90/90 [==============================] - 1s 7ms/step - loss: 0.0954 - val_loss: 0.0947\n",
      "Epoch 31/40\n",
      "90/90 [==============================] - 1s 8ms/step - loss: 0.0951 - val_loss: 0.0945\n",
      "Epoch 32/40\n",
      "90/90 [==============================] - 1s 8ms/step - loss: 0.0949 - val_loss: 0.0942\n",
      "Epoch 33/40\n",
      "90/90 [==============================] - 1s 8ms/step - loss: 0.0947 - val_loss: 0.0940\n",
      "Epoch 34/40\n",
      "90/90 [==============================] - 1s 11ms/step - loss: 0.0945 - val_loss: 0.0939\n",
      "Epoch 35/40\n",
      "90/90 [==============================] - 1s 8ms/step - loss: 0.0943 - val_loss: 0.0937\n",
      "Epoch 36/40\n",
      "90/90 [==============================] - 1s 11ms/step - loss: 0.0942 - val_loss: 0.0936\n",
      "Epoch 37/40\n",
      "90/90 [==============================] - 1s 10ms/step - loss: 0.0941 - val_loss: 0.0935\n",
      "Epoch 38/40\n",
      "90/90 [==============================] - 1s 13ms/step - loss: 0.0940 - val_loss: 0.0934\n",
      "Epoch 39/40\n",
      "90/90 [==============================] - 1s 15ms/step - loss: 0.0938 - val_loss: 0.0933\n",
      "Epoch 40/40\n",
      "90/90 [==============================] - 1s 15ms/step - loss: 0.0938 - val_loss: 0.0932\n"
     ]
    },
    {
     "data": {
      "text/plain": [
       "<keras.callbacks.History at 0x1ae662d0e80>"
      ]
     },
     "execution_count": 43,
     "metadata": {},
     "output_type": "execute_result"
    }
   ],
   "source": [
    "import numpy as np\n",
    "from keras.models import Model\n",
    "from keras.layers import Input, Dense\n",
    "\n",
    "#Flattening the input images\n",
    "flatten_X_labeled_train=X_labeled_train.reshape((len(X_labeled_train), np.prod(X_labeled_train.shape[1:])))\n",
    "X_test=X_test.reshape((len(X_test), np.prod(X_test.shape[1:])))\n",
    "\n",
    "#Defining the input shape\n",
    "input_shape=(784,)\n",
    "\n",
    "#Defining the size of the encoded representations\n",
    "encoding_dim=32\n",
    "\n",
    "#Defining the input layer\n",
    "input_img=Input(shape=input_shape)\n",
    "\n",
    "#Defining the encoded layer\n",
    "encoded=Dense(encoding_dim, activation='relu')(input_img)\n",
    "\n",
    "#Defining the decoded layer\n",
    "decoded=Dense(784, activation='sigmoid')(encoded)\n",
    "\n",
    "#Defining the autoencoder model\n",
    "autoencoder=Model(input_img, decoded)\n",
    "\n",
    "#Compiling the autoencoder model\n",
    "autoencoder.compile(optimizer='adam', loss='binary_crossentropy')\n",
    "\n",
    "#Training the autoencoder model\n",
    "autoencoder.fit(flatten_X_labeled_train, flatten_X_labeled_train, epochs=40, batch_size=200, shuffle=True, validation_data=(X_test, X_test))\n"
   ]
  },
  {
   "cell_type": "markdown",
   "metadata": {},
   "source": [
    "Describing the autoencoder architecture and hyperparameters used "
   ]
  },
  {
   "cell_type": "markdown",
   "metadata": {},
   "source": [
    "As it seems, the architecture and hyperparameters used in an autoencoder can vary depending on the specific implementation and problem which we have; but the general description of the architecture and hyperparameters commonly used in an autoencoder and the ones which I used are as follows:\n",
    "\n",
    "1. Architecture:\n",
    "\n",
    "   - Encoder: The encoder part of the autoencoder compresses the input data into a lower-dimensional representation. It typically consists of one or more hidden layers that gradually reduce the dimensionality of the input. \n",
    "\n",
    "   - Decoder: The decoder part of the autoencoder reconstructs the original input data from the compressed representation. It mirrors the structure of the encoder, with one or more hidden layers that gradually increase the dimensionality back to the original input shape.\n",
    "\n",
    "   - Bottleneck layer: This is the layer in the middle of the autoencoder where the input data is compressed into a lower-dimensional representation. It acts as a bottleneck, forcing the model to learn a compact representation of the input.\n",
    "   \n",
    "\n",
    "2. Hyperparameters:\n",
    "\n",
    "   - Number of layers: The number of layers in both the encoder and decoder can vary depending on the complexity of the problem. Typically, deeper architectures can capture more complex patterns but it may be cause of overfitting. \n",
    "     After determining our desired number of layers, we can change the number of layers by adding additional layers such as Dense here or Conv2D and LSTM for other choices to the encoder or decoder model. But at last we have to ensure that the dimensions of the layers in the encoder and decoder are compatible with each other. Also we have to notice that changing the number of layers may require adjusting other hyperparameters, such as the number of neurons in each layer, activation functions, regularization techniques and optimizer settings to achieve optimal performance.\n",
    "\n",
    "   - Number of neurons per layer: The number of units or neurons in each layer can also vary depending on the problem. It is common to use a decreasing number of units in the encoder layers and an increasing number of units in the decoder layers as I did here.\n",
    "     For changing the number of neurons, after determining the desired number of neurons for the layer(s) in the encoder and decoder and locating our specific arbitrary ones in their architecture, for Modifying the units parameter of the layer(s) we can easily change the first number location after parenthesis in front of Dense or others. However before the change we have to remember that the number of neurons in each layer is compatible with the dimensions of the previous and next layers to avoid any shape mismatches. Changing the number of neurons may also require adjusting other hyperparameters and configurations to achieve optimal performance.\n",
    "\n",
    "   - Activation function: The choice of activation function for each layer can impact the performance of the autoencoder. Common ones are relu and sigmoid.\n",
    "     However, it is important to note that there are many other activation functions available, and the choice of activation function should be based on the specific problem and desired output. In general, the relu activation function is commonly used in the encoder layers because it is efficient and allows for faster training of deep neural networks as I did here. On the other hand, the sigmoid activation function is often used in the decoder layers for binary classification problems, as it maps the output to a probability between 0 and 1 and same as the previous one cause, I used this function here. But at all it may be necessary to experiment with different activation functions to determine which one works best for a particular problem.\n",
    "\n",
    "   - Loss function: The loss function used in an autoencoder is typically a reconstruction loss, such as mean squared error (MSE) or binary cross-entropy, which measures the difference between the input and output.\n",
    "\n",
    "   - Learning rate: The learning rate determines how quickly the model learns from the training data. It is an important hyperparameter that needs to be tuned to ensure optimal performance.\n",
    "\n",
    "   - Batch size: The batch size determines the number of samples used in each iteration of training. It can impact the convergence speed and memory requirements of the model.\n",
    "\n",
    "   - Number of epochs: The number of epochs determines how many times the model goes through the entire training dataset. It needs to be chosen carefully to avoid underfitting or overfitting.\n",
    "\n",
    "   - Optimizer: The optimizer hyperparameter controls the behavior of the optimizer during the training process of a machine learning model. It determines how the optimizer adjusts the weights and biases of the model during each iteration of the training process. Such as other ones, the choice of optimizer depends on our specific problem and desired output. It can affect the speed of convergence, the quality of the solution, and the generalization performance of the model. Therefore, selecting the appropriate optimizer hyperparameters is essential for achieving optimal results. The Adam optimizer is a popular choice because it combines the benefits of both the AdaGrad and RMSProp optimizers, and is efficient in terms of both memory usage and computation time and so because of these reasons I used it here. However, there are other optimizers available, such as Stochastic Gradient Descent (SGD), Adagrad, and Adadelta, which may be more appropriate for different types of problems. So here again it is important to experiment with different optimizers to determine which one works best for our particular problem. Additionally, tuning the learning rate hyperparameter can also have a significant impact on the performance of the optimizer.\n",
    "\n",
    "At last I have to say that these ones were just some of the common architecture and hyperparameters used in an autoencoder. The specific choices may vary depending on the problem, dataset, and desired outcomes."
   ]
  },
  {
   "cell_type": "markdown",
   "metadata": {},
   "source": [
    "Applying the trained autoencoder to the labeled data"
   ]
  },
  {
   "cell_type": "code",
   "execution_count": 44,
   "metadata": {},
   "outputs": [
    {
     "name": "stdout",
     "output_type": "stream",
     "text": [
      "563/563 [==============================] - 2s 3ms/step\n",
      "313/313 [==============================] - 1s 2ms/step\n"
     ]
    }
   ],
   "source": [
    "auto_pre_labeled_train=autoencoder.predict(flatten_X_labeled_train)\n",
    "auto_pre_test=autoencoder.predict(X_test)"
   ]
  },
  {
   "cell_type": "markdown",
   "metadata": {},
   "source": [
    "Applying the trained autoencoder on the labeled data by encoder and decoder models seperately"
   ]
  },
  {
   "cell_type": "code",
   "execution_count": 45,
   "metadata": {},
   "outputs": [
    {
     "name": "stdout",
     "output_type": "stream",
     "text": [
      "563/563 [==============================] - 1s 2ms/step\n",
      "563/563 [==============================] - 1s 2ms/step\n",
      "313/313 [==============================] - 1s 2ms/step\n",
      "313/313 [==============================] - 1s 2ms/step\n"
     ]
    }
   ],
   "source": [
    "#Creating the encoder and decoder models\n",
    "\n",
    "encoder=Model(input_img, encoded)\n",
    "\n",
    "encoded_input=Input(shape=(encoding_dim,))\n",
    "decoder_layer=autoencoder.layers[-1]\n",
    "\n",
    "decoder=Model(encoded_input, decoder_layer(encoded_input))\n",
    "\n",
    "#Encoding the input data and decoding them after that\n",
    "encoded_img_labeled_train=encoder.predict(flatten_X_labeled_train)\n",
    "decoded_img_labeled_train=decoder.predict(encoded_img_labeled_train)\n",
    "\n",
    "encoded_img_test=encoder.predict(X_test)\n",
    "decoded_img_test=decoder.predict(encoded_img_test)"
   ]
  },
  {
   "cell_type": "markdown",
   "metadata": {},
   "source": [
    "#My last visualization run color was gray but here changed to plasma because of my previous selection of it before gray. But at all I don't think of any important difference and it seems only color change."
   ]
  },
  {
   "cell_type": "markdown",
   "metadata": {},
   "source": [
    "Visualizing the encoded features in comparison to the original ones (labeled_train)"
   ]
  },
  {
   "cell_type": "code",
   "execution_count": 46,
   "metadata": {},
   "outputs": [
    {
     "data": {
      "image/png": "[encoded data removed]",
      "text/plain": [
       "<Figure size 2000x400 with 30 Axes>"
      ]
     },
     "metadata": {},
     "output_type": "display_data"
    }
   ],
   "source": [
    "import matplotlib.pyplot as plt\n",
    "n=15  #Number of images to visualize\n",
    "plt.figure(figsize=(20, 4))\n",
    "for i in range(n):\n",
    "    #Original image\n",
    "    ax=plt.subplot(2, n, i+1)\n",
    "    plt.imshow(flatten_X_labeled_train[i].reshape(28, 28))\n",
    "    ax.get_xaxis().set_visible(False) #The True default mode has an unsuitable appearance and brings interference in pictures because of their near positions.\n",
    "    ax.get_yaxis().set_visible(False) #So the false mode was preferred.\n",
    "\n",
    "    #Encoded feature\n",
    "    ax=plt.subplot(2, n, i+1+n)\n",
    "    plt.imshow(encoded_img_labeled_train[i].reshape(8, 4)) \n",
    "    #ax.get_xaxis().set_visible(False)\n",
    "    #ax.get_yaxis().set_visible(False)\n",
    "\n",
    "plt.show()"
   ]
  },
  {
   "cell_type": "markdown",
   "metadata": {},
   "source": [
    "Visualizing the encoded features in comparison to the original ones (test)"
   ]
  },
  {
   "cell_type": "code",
   "execution_count": 47,
   "metadata": {},
   "outputs": [
    {
     "data": {
      "image/png": "[encoded data removed]",
      "text/plain": [
       "<Figure size 2000x400 with 30 Axes>"
      ]
     },
     "metadata": {},
     "output_type": "display_data"
    }
   ],
   "source": [
    "import matplotlib.pyplot as plt\n",
    "\n",
    "n=15  #Number of images to visualize\n",
    "plt.figure(figsize=(20, 4))\n",
    "for i in range(n):\n",
    "    #Original image\n",
    "    ax=plt.subplot(2, n, i+1)\n",
    "    plt.imshow(X_test[i].reshape(28, 28))\n",
    "    ax.get_xaxis().set_visible(False) #The True default mode has an unsuitable appearance and brings interference in pictures because of their near positions.\n",
    "    ax.get_yaxis().set_visible(False) #So the false mode was preferred.\n",
    "\n",
    "    #Encoded feature\n",
    "    ax=plt.subplot(2, n, i+1+n)\n",
    "    plt.imshow(encoded_img_test[i].reshape(8, 4)) \n",
    "    #ax.get_xaxis().set_visible(False)\n",
    "    #ax.get_yaxis().set_visible(False)\n",
    "\n",
    "plt.show()"
   ]
  },
  {
   "cell_type": "markdown",
   "metadata": {},
   "source": [
    "Saving the trained encoder model for future use"
   ]
  },
  {
   "cell_type": "code",
   "execution_count": 48,
   "metadata": {},
   "outputs": [
    {
     "name": "stdout",
     "output_type": "stream",
     "text": [
      "WARNING:tensorflow:Compiled the loaded model, but the compiled metrics have yet to be built. `model.compile_metrics` will be empty until you train or evaluate the model.\n"
     ]
    }
   ],
   "source": [
    "encoder.save('encoder.h5')"
   ]
  },
  {
   "cell_type": "markdown",
   "metadata": {},
   "source": [
    "Discussing the advantages of using autoencoder features for classification tasks"
   ]
  },
  {
   "cell_type": "markdown",
   "metadata": {},
   "source": [
    "Overally there are several advantages of using autoencoder features for classification tasks:\n",
    "\n",
    "1. Dimensionality reduction: Autoencoders can reduce the dimensionality of the input data, which can help to reduce overfitting and improve the performance of the classification model.\n",
    "\n",
    "2. Non-linear feature extraction: Autoencoders can learn non-linear transformations of the input data, which can help to capture complex patterns and relationships in the data that may not be captured by linear methods such as what I did here.\n",
    "\n",
    "3. Unsupervised learning: Autoencoders can be trained on unlabeled data, which can be beneficial in cases where labeled data is scarce or expensive to obtain. The encoded features learned by the autoencoder can then be used as input to a supervised learning algorithm for classification.\n",
    "\n",
    "4. Robustness to noise: Autoencoders can learn robust representations of the input data that are less sensitive to noise and other forms of variability in the data. This can help to improve the generalization performance of the classification model."
   ]
  },
  {
   "cell_type": "markdown",
   "metadata": {},
   "source": [
    "#My last run result of learning rate was constant same as default of MLP method but the next run as we can see here resulted adaptive and because of it, I prefered to run both of them at last and see which one do better.\n",
    "Also the same problem happend for activation function which in the last try it was resulted logistic and here we have relu. "
   ]
  },
  {
   "cell_type": "markdown",
   "metadata": {},
   "source": [
    "5-fold cross-validation on the labeled data using an MLP classifier"
   ]
  },
  {
   "cell_type": "code",
   "execution_count": 49,
   "metadata": {},
   "outputs": [
    {
     "name": "stdout",
     "output_type": "stream",
     "text": [
      "Best hyperparameters:  {'activation': 'relu', 'batch_size': 16, 'hidden_layer_sizes': 50, 'learning_rate': 'adaptive', 'max_iter': 50}\n",
      "Best accuracy:  0.9520555555555555\n"
     ]
    },
    {
     "name": "stderr",
     "output_type": "stream",
     "text": [
      "c:\\Users\\Amin\\AppData\\Local\\Programs\\Python\\Python39\\lib\\site-packages\\sklearn\\neural_network\\_multilayer_perceptron.py:692: ConvergenceWarning: Stochastic Optimizer: Maximum iterations (50) reached and the optimization hasn't converged yet.\n",
      "  warnings.warn(\n"
     ]
    }
   ],
   "source": [
    "from sklearn.neural_network import MLPClassifier\n",
    "from sklearn.model_selection import KFold\n",
    "from sklearn.model_selection import GridSearchCV\n",
    "\n",
    "#Defining the parameter grid for hyperparameter tuning\n",
    "param_grid={\n",
    "    'hidden_layer_sizes': [50,(25,50)],\n",
    "    'learning_rate': ['constant', 'adaptive'],\n",
    "    'activation': ['relu', 'logistic'],\n",
    "    'batch_size': [16, 32],\n",
    "    'max_iter': [25, 50],\n",
    "    }\n",
    "\n",
    "#Creating the MLP classifier\n",
    "mlp=MLPClassifier()\n",
    "\n",
    "#Creating the cross-validation object\n",
    "cv=KFold(n_splits=5)\n",
    "\n",
    "#Performing grid search with cross-validation\n",
    "grid_search=GridSearchCV(mlp, param_grid=param_grid, cv=cv, n_jobs=-1)\n",
    "grid_search.fit(encoded_img_labeled_train, y_labeled_train)\n",
    "\n",
    "#Print the best hyperparameters and the corresponding accuracy\n",
    "print(\"Best hyperparameters: \", grid_search.best_params_)\n",
    "print(\"Best accuracy: \", grid_search.best_score_)"
   ]
  },
  {
   "cell_type": "markdown",
   "metadata": {},
   "source": [
    "So according to the previous results and their situation, to have a better understanding of what measures of hyperparameters are better ones, another cross validation was done by using more suitable amounts of them. For example for reaching the convergence of optimization, two upper Maximum iterations were chosen (60 and 70 instead of insufficient 50) or after result of 16 for batch size parameter, two other numbers were selected in rear and front for verification. Also same work have been done for hidden layer size."
   ]
  },
  {
   "cell_type": "code",
   "execution_count": 50,
   "metadata": {},
   "outputs": [
    {
     "name": "stdout",
     "output_type": "stream",
     "text": [
      "Best hyperparameters:  {'activation': 'relu', 'batch_size': 20, 'hidden_layer_sizes': 60, 'learning_rate': 'adaptive', 'max_iter': 60}\n",
      "Best accuracy:  0.9538333333333334\n"
     ]
    },
    {
     "name": "stderr",
     "output_type": "stream",
     "text": [
      "c:\\Users\\Amin\\AppData\\Local\\Programs\\Python\\Python39\\lib\\site-packages\\sklearn\\neural_network\\_multilayer_perceptron.py:692: ConvergenceWarning: Stochastic Optimizer: Maximum iterations (60) reached and the optimization hasn't converged yet.\n",
      "  warnings.warn(\n"
     ]
    }
   ],
   "source": [
    "from sklearn.neural_network import MLPClassifier\n",
    "from sklearn.model_selection import KFold\n",
    "from sklearn.model_selection import GridSearchCV\n",
    "\n",
    "#Defining the parameter grid for hyperparameter tuning\n",
    "param_grid={\n",
    "    'hidden_layer_sizes': [40, 60],\n",
    "    'learning_rate': ['constant', 'adaptive'],\n",
    "    'activation': ['relu', 'logistic'],\n",
    "    'batch_size': [10, 20],\n",
    "    'max_iter': [60, 70],\n",
    "    }\n",
    "\n",
    "#Creating the MLP classifier\n",
    "mlp=MLPClassifier()\n",
    "\n",
    "#Creating the cross-validation object\n",
    "cv=KFold(n_splits=5)\n",
    "\n",
    "#Performing grid search with cross-validation\n",
    "grid_search=GridSearchCV(mlp, param_grid=param_grid, cv=cv, n_jobs=-1)\n",
    "grid_search.fit(encoded_img_labeled_train, y_labeled_train)\n",
    "\n",
    "#Print the best hyperparameters and the corresponding accuracy\n",
    "print(\"Best hyperparameters: \", grid_search.best_params_)\n",
    "print(\"Best accuracy: \", grid_search.best_score_)"
   ]
  },
  {
   "cell_type": "markdown",
   "metadata": {},
   "source": [
    "NOTE: Above result is not so reliable as previous runs and it seems that because of long running times and my laptop lowering of efficiency, because of long power-on time, we see this little problem. The obvious reason is the max iter result which is definitely lower than what it should be. Also it is needed to say that the reason of this repeats in runnings and so the appearing problems is my need to change a few of above parts details which after their changes I needed the subsequent runs. Batch size is also not same as past and best one was 10."
   ]
  },
  {
   "cell_type": "markdown",
   "metadata": {},
   "source": [
    "So because of long running time of the code with more amounts of max_iter and hidden_layer_sizes parameters which is needed according to last results, I will choose 100 for hidden_layer_sizes or in other words number of neurons which will be used in this single chosen hidden layer (but it seems that we need a number between 32 and 784 which are the size of the input layer and output one to have better results) but 200 for max_iter in the main modeling because it seems that it is better to have many more iterations, in size of thousands!\n",
    "So no other crosses will be done."
   ]
  },
  {
   "cell_type": "markdown",
   "metadata": {},
   "source": [
    "Training the MLP classifier with the best parameters obtained from cross-validation"
   ]
  },
  {
   "cell_type": "code",
   "execution_count": 51,
   "metadata": {},
   "outputs": [
    {
     "name": "stdout",
     "output_type": "stream",
     "text": [
      "[[1773    0    1    0    0    0    0    0    1    2]\n",
      " [   0 2042    0    0    0    0    0    0    3    1]\n",
      " [   4    0 1794    2    1    0    0    2    1    0]\n",
      " [   0    0    5 1800    0   19    0    1    6    1]\n",
      " [   1    1    0    0 1701    0    1    1    1    9]\n",
      " [   0    0    0    1    0 1576    0    0    0    0]\n",
      " [   3    0    0    0    0    1 1764    0    1    0]\n",
      " [   0    1    0    1    1    1    0 1866    0    3]\n",
      " [   1    0    1    6    0    8    1    0 1772    2]\n",
      " [   1    0    0    0    7    5    0    7    1 1795]]\n",
      "labeled_train_Accuracy: 0.9935\n",
      "[[ 967    0    0    1    0    7    3    1    1    0]\n",
      " [   0 1123    4    2    0    1    2    1    2    0]\n",
      " [   8    1  990    5    2    2    2   11   11    0]\n",
      " [   0    0   16  945    0   20    1    7   12    9]\n",
      " [   3    0    3    0  940    3    3    1    1   28]\n",
      " [   6    1    1   12    2  859    4    2    3    2]\n",
      " [  10    4    1    1    4   10  921    0    7    0]\n",
      " [   0    6   10    5    2    3    0  986    3   13]\n",
      " [   6    1    5    9    7   20    4    7  911    4]\n",
      " [   5    4    0    5   11    7    1   10    5  961]]\n",
      "test_Accuracy: 0.9603\n"
     ]
    }
   ],
   "source": [
    "from sklearn.neural_network import MLPClassifier\n",
    "from sklearn.metrics import confusion_matrix\n",
    "from sklearn import metrics\n",
    "\n",
    "mlp=MLPClassifier(activation='logistic', batch_size=10, hidden_layer_sizes=100, learning_rate='constant', max_iter=200)\n",
    "mlp.fit(encoded_img_labeled_train, y_labeled_train)\n",
    "\n",
    "MLP_y_pred_labeled_train=mlp.predict(encoded_img_labeled_train)\n",
    "print(confusion_matrix(y_labeled_train, MLP_y_pred_labeled_train))\n",
    "print(\"labeled_train_Accuracy:\", metrics.accuracy_score(y_labeled_train, MLP_y_pred_labeled_train))\n",
    "\n",
    "MLP_y_pred_test=mlp.predict(encoded_img_test)\n",
    "print(confusion_matrix(y_test, MLP_y_pred_test))\n",
    "print(\"test_Accuracy:\", metrics.accuracy_score(y_test, MLP_y_pred_test))"
   ]
  },
  {
   "cell_type": "code",
   "execution_count": 52,
   "metadata": {},
   "outputs": [
    {
     "name": "stdout",
     "output_type": "stream",
     "text": [
      "[[1758    0    1    0    0   10    1    0    7    0]\n",
      " [   0 2036    0    0    0    1    0    3    5    1]\n",
      " [   0    0 1784    1    9    0    0    2    6    2]\n",
      " [   0    0    0 1780    0   38    0    1   10    3]\n",
      " [   0    1    0    0 1710    0    0    0    0    4]\n",
      " [   0    0    0    0    0 1576    0    0    0    1]\n",
      " [   7    2    0    0    2   15 1739    0    4    0]\n",
      " [   0    0    1    1    2    2    0 1854    2   11]\n",
      " [   0    0    0    1    0   13    0    1 1775    1]\n",
      " [   0    0    0    3    3    9    0    2    2 1797]]\n",
      "labeled_train_Accuracy: 0.9893888888888889\n",
      "[[ 965    0    1    1    0    4    2    2    4    1]\n",
      " [   0 1119    4    2    0    0    1    5    4    0]\n",
      " [   1    2  990    5    4    1    6    5   16    2]\n",
      " [   0    1    6  956    0   33    0    4    4    6]\n",
      " [   1    1    2    1  955    2    3    4    0   13]\n",
      " [   5    1    0    9    1  864    4    1    3    4]\n",
      " [   8    4    0    1   12   19  905    1    7    1]\n",
      " [   0    3    8    5    4    1    0  982    2   23]\n",
      " [   3    0    7    7    2   21    0    3  923    8]\n",
      " [   3    3    0    9    5   12    0    6    5  966]]\n",
      "test_Accuracy: 0.9625\n"
     ]
    }
   ],
   "source": [
    "from sklearn.neural_network import MLPClassifier\n",
    "from sklearn.metrics import confusion_matrix\n",
    "from sklearn import metrics\n",
    "\n",
    "mlp=MLPClassifier(activation='relu', batch_size=10, hidden_layer_sizes=100, learning_rate='adaptive', max_iter=200)\n",
    "mlp.fit(encoded_img_labeled_train, y_labeled_train)\n",
    "\n",
    "MLP_y_pred_labeled_train=mlp.predict(encoded_img_labeled_train)\n",
    "print(confusion_matrix(y_labeled_train, MLP_y_pred_labeled_train))\n",
    "print(\"labeled_train_Accuracy:\", metrics.accuracy_score(y_labeled_train, MLP_y_pred_labeled_train))\n",
    "\n",
    "MLP_y_pred_test=mlp.predict(encoded_img_test)\n",
    "print(confusion_matrix(y_test, MLP_y_pred_test))\n",
    "print(\"test_Accuracy:\", metrics.accuracy_score(y_test, MLP_y_pred_test))"
   ]
  },
  {
   "cell_type": "markdown",
   "metadata": {},
   "source": [
    "So as we see as I expected, the first result was relatively better."
   ]
  },
  {
   "cell_type": "markdown",
   "metadata": {},
   "source": [
    "Scaling the unlabeled train data for further clustering usage (especially my choice)"
   ]
  },
  {
   "cell_type": "code",
   "execution_count": 81,
   "metadata": {},
   "outputs": [],
   "source": [
    "scaled_X_unlabeled_train=unlabeled_train.astype('float32')/255"
   ]
  },
  {
   "cell_type": "markdown",
   "metadata": {},
   "source": [
    "Applying the clustering algorithm to the unlabeled trainig set and labeling them (k-means was selected, the reason for its selection will be explained)."
   ]
  },
  {
   "cell_type": "code",
   "execution_count": 82,
   "metadata": {},
   "outputs": [
    {
     "name": "stdout",
     "output_type": "stream",
     "text": [
      "Cluster labels: [1 7 8 ... 4 0 2]\n"
     ]
    }
   ],
   "source": [
    "from sklearn.cluster import KMeans\n",
    "import numpy as np\n",
    "\n",
    "kmeans=KMeans(n_clusters=10)\n",
    "\n",
    "kmeans.fit(scaled_X_unlabeled_train)\n",
    "\n",
    "labels=kmeans.labels_\n",
    "\n",
    "print(\"Cluster labels:\", labels)\n"
   ]
  },
  {
   "cell_type": "markdown",
   "metadata": {},
   "source": [
    "At first because of the size of our data which is relatively large, k-means can be a suitable choice for this clustering. Also we made it flat by scaling and so it is compatible with this usage. "
   ]
  },
  {
   "cell_type": "markdown",
   "metadata": {},
   "source": [
    "Before the next parts I should say that we could only concat the X ones with each other (scaled X_ulabeled_train and X_labeled_train) and also y ones (new product of k_means labels and y_labeled_train) and after that use them for our next goal feature extraction and MLP method but according to instructions and for seeing our new dataset, I made it and after that again seperate Xs from ys."
   ]
  },
  {
   "cell_type": "markdown",
   "metadata": {},
   "source": [
    "Combining the labels achieved above with its related data"
   ]
  },
  {
   "cell_type": "code",
   "execution_count": 95,
   "metadata": {},
   "outputs": [],
   "source": [
    "X_unlabeled_train=scaled_X_unlabeled_train.values.reshape((len(scaled_X_unlabeled_train), np.prod(scaled_X_unlabeled_train.shape[1:])))"
   ]
  },
  {
   "cell_type": "code",
   "execution_count": 98,
   "metadata": {},
   "outputs": [
    {
     "name": "stdout",
     "output_type": "stream",
     "text": [
      "       label    0    1    2    3    4    5    6    7    8  ...  774  775  776  \\\n",
      "0          1  0.0  0.0  0.0  0.0  0.0  0.0  0.0  0.0  0.0  ...  0.0  0.0  0.0   \n",
      "1          7  0.0  0.0  0.0  0.0  0.0  0.0  0.0  0.0  0.0  ...  0.0  0.0  0.0   \n",
      "2          8  0.0  0.0  0.0  0.0  0.0  0.0  0.0  0.0  0.0  ...  0.0  0.0  0.0   \n",
      "3          2  0.0  0.0  0.0  0.0  0.0  0.0  0.0  0.0  0.0  ...  0.0  0.0  0.0   \n",
      "4          4  0.0  0.0  0.0  0.0  0.0  0.0  0.0  0.0  0.0  ...  0.0  0.0  0.0   \n",
      "...      ...  ...  ...  ...  ...  ...  ...  ...  ...  ...  ...  ...  ...  ...   \n",
      "41995      8  0.0  0.0  0.0  0.0  0.0  0.0  0.0  0.0  0.0  ...  0.0  0.0  0.0   \n",
      "41996      2  0.0  0.0  0.0  0.0  0.0  0.0  0.0  0.0  0.0  ...  0.0  0.0  0.0   \n",
      "41997      4  0.0  0.0  0.0  0.0  0.0  0.0  0.0  0.0  0.0  ...  0.0  0.0  0.0   \n",
      "41998      0  0.0  0.0  0.0  0.0  0.0  0.0  0.0  0.0  0.0  ...  0.0  0.0  0.0   \n",
      "41999      2  0.0  0.0  0.0  0.0  0.0  0.0  0.0  0.0  0.0  ...  0.0  0.0  0.0   \n",
      "\n",
      "       777  778  779  780  781  782  783  \n",
      "0      0.0  0.0  0.0  0.0  0.0  0.0  0.0  \n",
      "1      0.0  0.0  0.0  0.0  0.0  0.0  0.0  \n",
      "2      0.0  0.0  0.0  0.0  0.0  0.0  0.0  \n",
      "3      0.0  0.0  0.0  0.0  0.0  0.0  0.0  \n",
      "4      0.0  0.0  0.0  0.0  0.0  0.0  0.0  \n",
      "...    ...  ...  ...  ...  ...  ...  ...  \n",
      "41995  0.0  0.0  0.0  0.0  0.0  0.0  0.0  \n",
      "41996  0.0  0.0  0.0  0.0  0.0  0.0  0.0  \n",
      "41997  0.0  0.0  0.0  0.0  0.0  0.0  0.0  \n",
      "41998  0.0  0.0  0.0  0.0  0.0  0.0  0.0  \n",
      "41999  0.0  0.0  0.0  0.0  0.0  0.0  0.0  \n",
      "\n",
      "[42000 rows x 785 columns]\n"
     ]
    }
   ],
   "source": [
    "labels=pd.DataFrame(data=labels,columns=['label'])\n",
    "secondary_labeled_train=pd.concat([labels,pd.DataFrame(X_unlabeled_train)], axis = 1)\n",
    "print(secondary_labeled_train)"
   ]
  },
  {
   "cell_type": "markdown",
   "metadata": {},
   "source": [
    "combining scaled X_labeled_train with y_labeled_train for further new training dataset creation"
   ]
  },
  {
   "cell_type": "code",
   "execution_count": 99,
   "metadata": {},
   "outputs": [
    {
     "name": "stdout",
     "output_type": "stream",
     "text": [
      "       label    0    1    2    3    4    5    6    7    8  ...  774  775  776  \\\n",
      "0          7  0.0  0.0  0.0  0.0  0.0  0.0  0.0  0.0  0.0  ...  0.0  0.0  0.0   \n",
      "1          0  0.0  0.0  0.0  0.0  0.0  0.0  0.0  0.0  0.0  ...  0.0  0.0  0.0   \n",
      "2          0  0.0  0.0  0.0  0.0  0.0  0.0  0.0  0.0  0.0  ...  0.0  0.0  0.0   \n",
      "3          3  0.0  0.0  0.0  0.0  0.0  0.0  0.0  0.0  0.0  ...  0.0  0.0  0.0   \n",
      "4          8  0.0  0.0  0.0  0.0  0.0  0.0  0.0  0.0  0.0  ...  0.0  0.0  0.0   \n",
      "...      ...  ...  ...  ...  ...  ...  ...  ...  ...  ...  ...  ...  ...  ...   \n",
      "17995      3  0.0  0.0  0.0  0.0  0.0  0.0  0.0  0.0  0.0  ...  0.0  0.0  0.0   \n",
      "17996      8  0.0  0.0  0.0  0.0  0.0  0.0  0.0  0.0  0.0  ...  0.0  0.0  0.0   \n",
      "17997      0  0.0  0.0  0.0  0.0  0.0  0.0  0.0  0.0  0.0  ...  0.0  0.0  0.0   \n",
      "17998      0  0.0  0.0  0.0  0.0  0.0  0.0  0.0  0.0  0.0  ...  0.0  0.0  0.0   \n",
      "17999      4  0.0  0.0  0.0  0.0  0.0  0.0  0.0  0.0  0.0  ...  0.0  0.0  0.0   \n",
      "\n",
      "       777  778  779  780  781  782  783  \n",
      "0      0.0  0.0  0.0  0.0  0.0  0.0  0.0  \n",
      "1      0.0  0.0  0.0  0.0  0.0  0.0  0.0  \n",
      "2      0.0  0.0  0.0  0.0  0.0  0.0  0.0  \n",
      "3      0.0  0.0  0.0  0.0  0.0  0.0  0.0  \n",
      "4      0.0  0.0  0.0  0.0  0.0  0.0  0.0  \n",
      "...    ...  ...  ...  ...  ...  ...  ...  \n",
      "17995  0.0  0.0  0.0  0.0  0.0  0.0  0.0  \n",
      "17996  0.0  0.0  0.0  0.0  0.0  0.0  0.0  \n",
      "17997  0.0  0.0  0.0  0.0  0.0  0.0  0.0  \n",
      "17998  0.0  0.0  0.0  0.0  0.0  0.0  0.0  \n",
      "17999  0.0  0.0  0.0  0.0  0.0  0.0  0.0  \n",
      "\n",
      "[18000 rows x 785 columns]\n"
     ]
    }
   ],
   "source": [
    "labeled_train=pd.concat([pd.DataFrame(y_labeled_train),pd.DataFrame(X_labeled_train)], axis = 1)\n",
    "print(labeled_train)"
   ]
  },
  {
   "cell_type": "markdown",
   "metadata": {},
   "source": [
    "Combining the previous labeled train with newly built labeled clusters to create a new training dataset"
   ]
  },
  {
   "cell_type": "code",
   "execution_count": 100,
   "metadata": {},
   "outputs": [
    {
     "name": "stdout",
     "output_type": "stream",
     "text": [
      "       label    0    1    2    3    4    5    6    7    8  ...  774  775  776  \\\n",
      "0          7  0.0  0.0  0.0  0.0  0.0  0.0  0.0  0.0  0.0  ...  0.0  0.0  0.0   \n",
      "1          0  0.0  0.0  0.0  0.0  0.0  0.0  0.0  0.0  0.0  ...  0.0  0.0  0.0   \n",
      "2          0  0.0  0.0  0.0  0.0  0.0  0.0  0.0  0.0  0.0  ...  0.0  0.0  0.0   \n",
      "3          3  0.0  0.0  0.0  0.0  0.0  0.0  0.0  0.0  0.0  ...  0.0  0.0  0.0   \n",
      "4          8  0.0  0.0  0.0  0.0  0.0  0.0  0.0  0.0  0.0  ...  0.0  0.0  0.0   \n",
      "...      ...  ...  ...  ...  ...  ...  ...  ...  ...  ...  ...  ...  ...  ...   \n",
      "41995      8  0.0  0.0  0.0  0.0  0.0  0.0  0.0  0.0  0.0  ...  0.0  0.0  0.0   \n",
      "41996      2  0.0  0.0  0.0  0.0  0.0  0.0  0.0  0.0  0.0  ...  0.0  0.0  0.0   \n",
      "41997      4  0.0  0.0  0.0  0.0  0.0  0.0  0.0  0.0  0.0  ...  0.0  0.0  0.0   \n",
      "41998      0  0.0  0.0  0.0  0.0  0.0  0.0  0.0  0.0  0.0  ...  0.0  0.0  0.0   \n",
      "41999      2  0.0  0.0  0.0  0.0  0.0  0.0  0.0  0.0  0.0  ...  0.0  0.0  0.0   \n",
      "\n",
      "       777  778  779  780  781  782  783  \n",
      "0      0.0  0.0  0.0  0.0  0.0  0.0  0.0  \n",
      "1      0.0  0.0  0.0  0.0  0.0  0.0  0.0  \n",
      "2      0.0  0.0  0.0  0.0  0.0  0.0  0.0  \n",
      "3      0.0  0.0  0.0  0.0  0.0  0.0  0.0  \n",
      "4      0.0  0.0  0.0  0.0  0.0  0.0  0.0  \n",
      "...    ...  ...  ...  ...  ...  ...  ...  \n",
      "41995  0.0  0.0  0.0  0.0  0.0  0.0  0.0  \n",
      "41996  0.0  0.0  0.0  0.0  0.0  0.0  0.0  \n",
      "41997  0.0  0.0  0.0  0.0  0.0  0.0  0.0  \n",
      "41998  0.0  0.0  0.0  0.0  0.0  0.0  0.0  \n",
      "41999  0.0  0.0  0.0  0.0  0.0  0.0  0.0  \n",
      "\n",
      "[60000 rows x 785 columns]\n"
     ]
    }
   ],
   "source": [
    "new_training_dataset=pd.concat([labeled_train, secondary_labeled_train])\n",
    "print(new_training_dataset)"
   ]
  },
  {
   "cell_type": "markdown",
   "metadata": {},
   "source": [
    "Separating X_train and y_train from new_training_dataset"
   ]
  },
  {
   "cell_type": "code",
   "execution_count": 101,
   "metadata": {},
   "outputs": [
    {
     "name": "stdout",
     "output_type": "stream",
     "text": [
      "       0    1    2    3    4    5    6    7    8    9    ...  774  775  776  \\\n",
      "0      0.0  0.0  0.0  0.0  0.0  0.0  0.0  0.0  0.0  0.0  ...  0.0  0.0  0.0   \n",
      "1      0.0  0.0  0.0  0.0  0.0  0.0  0.0  0.0  0.0  0.0  ...  0.0  0.0  0.0   \n",
      "2      0.0  0.0  0.0  0.0  0.0  0.0  0.0  0.0  0.0  0.0  ...  0.0  0.0  0.0   \n",
      "3      0.0  0.0  0.0  0.0  0.0  0.0  0.0  0.0  0.0  0.0  ...  0.0  0.0  0.0   \n",
      "4      0.0  0.0  0.0  0.0  0.0  0.0  0.0  0.0  0.0  0.0  ...  0.0  0.0  0.0   \n",
      "...    ...  ...  ...  ...  ...  ...  ...  ...  ...  ...  ...  ...  ...  ...   \n",
      "41995  0.0  0.0  0.0  0.0  0.0  0.0  0.0  0.0  0.0  0.0  ...  0.0  0.0  0.0   \n",
      "41996  0.0  0.0  0.0  0.0  0.0  0.0  0.0  0.0  0.0  0.0  ...  0.0  0.0  0.0   \n",
      "41997  0.0  0.0  0.0  0.0  0.0  0.0  0.0  0.0  0.0  0.0  ...  0.0  0.0  0.0   \n",
      "41998  0.0  0.0  0.0  0.0  0.0  0.0  0.0  0.0  0.0  0.0  ...  0.0  0.0  0.0   \n",
      "41999  0.0  0.0  0.0  0.0  0.0  0.0  0.0  0.0  0.0  0.0  ...  0.0  0.0  0.0   \n",
      "\n",
      "       777  778  779  780  781  782  783  \n",
      "0      0.0  0.0  0.0  0.0  0.0  0.0  0.0  \n",
      "1      0.0  0.0  0.0  0.0  0.0  0.0  0.0  \n",
      "2      0.0  0.0  0.0  0.0  0.0  0.0  0.0  \n",
      "3      0.0  0.0  0.0  0.0  0.0  0.0  0.0  \n",
      "4      0.0  0.0  0.0  0.0  0.0  0.0  0.0  \n",
      "...    ...  ...  ...  ...  ...  ...  ...  \n",
      "41995  0.0  0.0  0.0  0.0  0.0  0.0  0.0  \n",
      "41996  0.0  0.0  0.0  0.0  0.0  0.0  0.0  \n",
      "41997  0.0  0.0  0.0  0.0  0.0  0.0  0.0  \n",
      "41998  0.0  0.0  0.0  0.0  0.0  0.0  0.0  \n",
      "41999  0.0  0.0  0.0  0.0  0.0  0.0  0.0  \n",
      "\n",
      "[60000 rows x 784 columns] 0        7\n",
      "1        0\n",
      "2        0\n",
      "3        3\n",
      "4        8\n",
      "        ..\n",
      "41995    8\n",
      "41996    2\n",
      "41997    4\n",
      "41998    0\n",
      "41999    2\n",
      "Name: label, Length: 60000, dtype: int64\n"
     ]
    }
   ],
   "source": [
    "X_new_training_dataset=new_training_dataset.loc[:, new_training_dataset.columns != 'label']\n",
    "y_new_training_dataset=new_training_dataset['label']\n",
    "\n",
    "print(X_new_training_dataset, y_new_training_dataset)"
   ]
  },
  {
   "cell_type": "markdown",
   "metadata": {},
   "source": [
    "Feature extraction by encoder part of previous modeled autoencoder on new dataset before secondary MLP"
   ]
  },
  {
   "cell_type": "markdown",
   "metadata": {},
   "source": [
    "NOTE: Feature extraction for test data was performed again to see if it is improved for MLP usage."
   ]
  },
  {
   "cell_type": "code",
   "execution_count": 103,
   "metadata": {},
   "outputs": [
    {
     "name": "stdout",
     "output_type": "stream",
     "text": [
      "1875/1875 [==============================] - 4s 2ms/step\n",
      "313/313 [==============================] - 1s 2ms/step\n"
     ]
    }
   ],
   "source": [
    "encoded_new_training_dataset=encoder.predict(X_new_training_dataset)\n",
    "new_encoded_test=encoder.predict(X_test)"
   ]
  },
  {
   "cell_type": "markdown",
   "metadata": {},
   "source": [
    "Applying MLP method on new dataset by its new extracted features and check the accuracy and confusion matrix (also a new view on test results)"
   ]
  },
  {
   "cell_type": "code",
   "execution_count": 105,
   "metadata": {},
   "outputs": [
    {
     "name": "stdout",
     "output_type": "stream",
     "text": [
      "[[3734  141   45  885   41   28  197   96  128  673]\n",
      " [1076 5961   49   18  147  717   20  217   65   84]\n",
      " [  95  100 5335    8 1223  181   49  295  171  484]\n",
      " [ 151   75    7 2140   41   20   47 1149  328   37]\n",
      " [  33  907  762   40 2962   90   69   12   52   11]\n",
      " [  39  594   85   27   50 3463  170  518  458   78]\n",
      " [  36   51   43   21   39   25 5558   16   32   16]\n",
      " [  94  477 1072  110   20  161   15 4850  215    8]\n",
      " [  47   73   38   73   14  251   47  329 5465   25]\n",
      " [ 197  861  499   71   14   56   61   43   58 2241]]\n",
      "new_train_dataset_Accuracy: 0.69515\n",
      "[[ 81   3   1 437   1   3  27  37  17 373]\n",
      " [641 154   1   0   1 331   4   1   2   0]\n",
      " [ 41  32  80   5 657  62  31  69  43  12]\n",
      " [ 45  17   9  77  26   5   3 681 140   7]\n",
      " [ 20 550 301   0  46  33  27   0   1   4]\n",
      " [ 15  39  26   9   1 228  29 274 236  35]\n",
      " [ 14  18   0   8   8   7 885   1  11   6]\n",
      " [ 53 263 557   0   8  50   0  92   2   3]\n",
      " [ 17  26  23   8   2  18  13 155 702  10]\n",
      " [ 27 509 268   5   1  11   3   9  15 161]]\n",
      "test_Accuracy: 0.2506\n"
     ]
    }
   ],
   "source": [
    "mlp.fit(encoded_new_training_dataset, y_new_training_dataset)\n",
    "\n",
    "MLP_y_pred_new_training_dataset=mlp.predict(encoded_new_training_dataset)\n",
    "print(confusion_matrix(y_new_training_dataset, MLP_y_pred_new_training_dataset))\n",
    "print(\"new_train_dataset_Accuracy:\", metrics.accuracy_score(y_new_training_dataset, MLP_y_pred_new_training_dataset))\n",
    "\n",
    "MLP_y_pred_test_secondary=mlp.predict(new_encoded_test)\n",
    "print(confusion_matrix(y_test, MLP_y_pred_test_secondary))\n",
    "print(\"test_Accuracy:\", metrics.accuracy_score(y_test, MLP_y_pred_test_secondary))"
   ]
  },
  {
   "cell_type": "markdown",
   "metadata": {},
   "source": [
    "As we can see, the accuracy of both training set and test one dropped significantly (especially the test one) and their confusion matrix literally confused! Means that despite of previous well done ones, the distribution of numbers ,especially the larger or bigger ones, in all regions of the squares increased and their natural focus on the diagonal diameter decreased substantially. So when we investigate the new situation and data for the cause, the main one which comes to our mind is combining of classified labeled data with clustering labeled one. As we know the method of these two kinds of grouping data are relatively different, this idea can't be considered so useful and worthy. The next notable point to say is the difference in the size of the data. Maybe we can say that after encountering with this larger size of data, our model's ability to identify the best groupings decreased and data didn't bring them any new touchable thing to improve or for analysis."
   ]
  }
 ],
 "metadata": {
  "kernelspec": {
   "display_name": "Python 3",
   "language": "python",
   "name": "python3"
  },
  "language_info": {
   "codemirror_mode": {
    "name": "ipython",
    "version": 3
   },
   "file_extension": ".py",
   "mimetype": "text/x-python",
   "name": "python",
   "nbconvert_exporter": "python",
   "pygments_lexer": "ipython3",
   "version": "3.9.0"
  },
  "orig_nbformat": 4
 },
 "nbformat": 4,
 "nbformat_minor": 2
}
